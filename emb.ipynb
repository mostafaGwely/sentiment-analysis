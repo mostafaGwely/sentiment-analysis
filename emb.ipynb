{
 "cells": [
  {
   "cell_type": "code",
   "execution_count": 136,
   "metadata": {},
   "outputs": [],
   "source": [
    "from keras.layers import *\n",
    "from keras.models import Sequential\n",
    "from keras.preprocessing.text import one_hot\n",
    "from keras.preprocessing.sequence  import  pad_sequences\n",
    "from numpy import array \n",
    "import pandas as pd \n",
    "from sklearn.model_selection import train_test_split\n",
    "\n",
    "%matplotlib inline\n"
   ]
  },
  {
   "cell_type": "code",
   "execution_count": 58,
   "metadata": {},
   "outputs": [
    {
     "data": {
      "text/html": [
       "<div>\n",
       "<style scoped>\n",
       "    .dataframe tbody tr th:only-of-type {\n",
       "        vertical-align: middle;\n",
       "    }\n",
       "\n",
       "    .dataframe tbody tr th {\n",
       "        vertical-align: top;\n",
       "    }\n",
       "\n",
       "    .dataframe thead th {\n",
       "        text-align: right;\n",
       "    }\n",
       "</style>\n",
       "<table border=\"1\" class=\"dataframe\">\n",
       "  <thead>\n",
       "    <tr style=\"text-align: right;\">\n",
       "      <th></th>\n",
       "      <th>text</th>\n",
       "      <th>stars</th>\n",
       "    </tr>\n",
       "  </thead>\n",
       "  <tbody>\n",
       "    <tr>\n",
       "      <th>0</th>\n",
       "      <td>My wife took me here on my birthday for breakf...</td>\n",
       "      <td>5</td>\n",
       "    </tr>\n",
       "    <tr>\n",
       "      <th>1</th>\n",
       "      <td>I have no idea why some people give bad review...</td>\n",
       "      <td>5</td>\n",
       "    </tr>\n",
       "  </tbody>\n",
       "</table>\n",
       "</div>"
      ],
      "text/plain": [
       "                                                text  stars\n",
       "0  My wife took me here on my birthday for breakf...      5\n",
       "1  I have no idea why some people give bad review...      5"
      ]
     },
     "execution_count": 58,
     "metadata": {},
     "output_type": "execute_result"
    }
   ],
   "source": [
    "# # define documents\n",
    "# docs = ['Well done!',\n",
    "# \t\t'Good work',\n",
    "# \t\t'Great effort',\n",
    "# \t\t'nice work',\n",
    "# \t\t'Excellent!',\n",
    "# \t\t'Weak',\n",
    "# \t\t'Poor effort!',\n",
    "# \t\t'not good',\n",
    "# \t\t'poor work',\n",
    "# \t\t'Could have done better.']\n",
    "# # define class labels\n",
    "# labels = array([1,1,1,1,1,0,0,0,0,0])\n",
    "df = pd.read_csv('./yelp.csv')\n",
    "df = df[['text','stars']]\n",
    "df.head(2)"
   ]
  },
  {
   "cell_type": "code",
   "execution_count": 61,
   "metadata": {},
   "outputs": [],
   "source": [
    "df.stars = df.stars.apply(lambda x: 1 if x > 3 else 0)\n"
   ]
  },
  {
   "cell_type": "code",
   "execution_count": 66,
   "metadata": {},
   "outputs": [
    {
     "data": {
      "text/html": [
       "<div>\n",
       "<style scoped>\n",
       "    .dataframe tbody tr th:only-of-type {\n",
       "        vertical-align: middle;\n",
       "    }\n",
       "\n",
       "    .dataframe tbody tr th {\n",
       "        vertical-align: top;\n",
       "    }\n",
       "\n",
       "    .dataframe thead th {\n",
       "        text-align: right;\n",
       "    }\n",
       "</style>\n",
       "<table border=\"1\" class=\"dataframe\">\n",
       "  <thead>\n",
       "    <tr style=\"text-align: right;\">\n",
       "      <th></th>\n",
       "      <th>text</th>\n",
       "      <th>stars</th>\n",
       "    </tr>\n",
       "  </thead>\n",
       "  <tbody>\n",
       "    <tr>\n",
       "      <th>7241</th>\n",
       "      <td>At the ripe old age of 3, it's time for my pre...</td>\n",
       "      <td>1</td>\n",
       "    </tr>\n",
       "    <tr>\n",
       "      <th>1863</th>\n",
       "      <td>Like many before me, I am trying to be sure to...</td>\n",
       "      <td>1</td>\n",
       "    </tr>\n",
       "    <tr>\n",
       "      <th>208</th>\n",
       "      <td>Wednesday 7pm.  This place is your average ove...</td>\n",
       "      <td>0</td>\n",
       "    </tr>\n",
       "    <tr>\n",
       "      <th>214</th>\n",
       "      <td>I thought Trader Vic's was very nice.  Food wa...</td>\n",
       "      <td>1</td>\n",
       "    </tr>\n",
       "    <tr>\n",
       "      <th>9976</th>\n",
       "      <td>I was looking for chile rellenos and this plac...</td>\n",
       "      <td>0</td>\n",
       "    </tr>\n",
       "  </tbody>\n",
       "</table>\n",
       "</div>"
      ],
      "text/plain": [
       "                                                   text  stars\n",
       "7241  At the ripe old age of 3, it's time for my pre...      1\n",
       "1863  Like many before me, I am trying to be sure to...      1\n",
       "208   Wednesday 7pm.  This place is your average ove...      0\n",
       "214   I thought Trader Vic's was very nice.  Food wa...      1\n",
       "9976  I was looking for chile rellenos and this plac...      0"
      ]
     },
     "execution_count": 66,
     "metadata": {},
     "output_type": "execute_result"
    }
   ],
   "source": [
    "df.sample(5)"
   ]
  },
  {
   "cell_type": "code",
   "execution_count": 138,
   "metadata": {},
   "outputs": [
    {
     "data": {
      "image/png": "[encoded data removed]",
      "text/plain": [
       "<Figure size 432x288 with 1 Axes>"
      ]
     },
     "metadata": {
      "needs_background": "light"
     },
     "output_type": "display_data"
    }
   ],
   "source": [
    "a = df.text.apply(lambda x : len(x.split(\" \")))\n",
    "a.hist()\n",
    "max_length = max(a)\n",
    "max_length = 400"
   ]
  },
  {
   "cell_type": "code",
   "execution_count": 150,
   "metadata": {},
   "outputs": [
    {
     "name": "stderr",
     "output_type": "stream",
     "text": [
      "/home/mostafa/anaconda3/lib/python3.6/site-packages/ipykernel_launcher.py:1: FutureWarning: \n",
      "The current behaviour of 'Series.argmax' is deprecated, use 'idxmax'\n",
      "instead.\n",
      "The behavior of 'argmax' will be corrected to return the positional\n",
      "maximum in the future. For now, use 'series.values.argmax' or\n",
      "'np.argmax(np.array(values))' to get the position of the maximum\n",
      "row.\n",
      "  \"\"\"Entry point for launching an IPython kernel.\n"
     ]
    },
    {
     "data": {
      "text/plain": [
       "(3686, 945)"
      ]
     },
     "execution_count": 150,
     "metadata": {},
     "output_type": "execute_result"
    }
   ],
   "source": [
    "a.argmax() , max(a)"
   ]
  },
  {
   "cell_type": "code",
   "execution_count": 139,
   "metadata": {},
   "outputs": [],
   "source": []
  },
  {
   "cell_type": "code",
   "execution_count": 151,
   "metadata": {},
   "outputs": [
    {
     "name": "stdout",
     "output_type": "stream",
     "text": [
      "[115, 218, 716, 962, 36, 512, 470, 363, 38, 947, 954, 738, 164, 686, 962, 528, 954, 784, 818, 341, 898, 802, 679, 353, 520, 115, 11, 974, 341, 229, 686, 80, 636, 368, 34, 341, 528, 769, 937, 954, 209, 632, 191, 80, 900, 716, 673, 917, 534, 818, 341, 171, 368, 11, 402, 784, 469, 421, 38, 956, 470, 818, 974, 64, 353, 863, 853, 104, 595, 513, 446, 402, 345, 445, 359, 11, 115, 553, 356, 261, 716, 216, 410, 388, 520, 735, 818, 898, 898, 291, 419, 975, 379, 837, 823, 761, 853, 799, 877, 209, 697, 630, 179, 637, 453, 881, 664, 818, 341, 603, 110, 679, 664, 291, 419, 975, 115, 841, 686, 341, 962, 528, 725, 291, 712, 273, 913, 725, 84, 737, 553, 115, 25, 34, 522, 115, 270, 341, 727, 353, 577, 954, 566, 738, 38, 399, 397, 203, 784, 818, 954, 115, 761, 570, 954, 784, 818, 38, 665, 577, 115, 818, 738, 123, 185, 175, 115, 2, 263, 115, 408, 954, 566, 738, 602, 392, 115, 345, 407, 522, 291, 712, 389, 733, 57, 673, 991, 716, 22, 465, 84, 22, 263, 593, 580, 630, 389, 733, 826, 317, 630, 716, 799, 996, 994, 10, 829, 943, 38, 799, 353, 34, 693, 291, 991, 916, 954, 57, 673, 991, 716, 943, 74, 812, 293, 263, 826, 209, 632, 864, 824, 453, 716, 799, 374, 329, 698, 34, 209, 761, 864, 738, 947, 38, 67, 698, 534, 255, 954, 291, 818, 426, 388, 38, 712, 263, 697, 209, 446, 509, 38, 194, 840, 697, 209, 446, 22, 371, 716, 673, 22, 604, 818, 784, 34, 209, 697, 105, 809, 38, 962, 528, 725, 826, 209, 446, 105, 371, 716, 329, 841, 589, 994, 175, 291, 607, 828, 853, 799, 954, 209, 881, 270, 520, 487, 387, 388, 244, 11, 595, 459, 877, 291, 553, 115, 716, 589, 991, 209, 274, 480, 202, 274, 743, 106, 10, 595, 270, 38, 577, 534, 818, 24, 38, 818, 22, 769, 46, 341, 558, 784, 818, 38, 498, 727, 353, 825, 115, 454, 433, 205, 522, 209, 632, 954, 632, 954, 632, 209, 463, 38, 956, 129, 353, 703, 94, 818, 990, 38, 420, 975, 853, 898, 841, 209, 274, 853, 64, 209, 11, 388, 593, 784, 353, 881, 405, 341, 697, 524, 341, 224, 16, 703, 954, 341, 857, 879, 38, 524, 818, 513, 603, 446, 171, 534, 179, 38, 879, 818, 883, 778, 38, 414, 175, 24, 360, 784, 818, 152, 716, 454, 554, 225, 954, 11, 784, 444, 914, 954, 608, 38, 16, 703, 818, 24, 38, 115, 473, 738, 224, 175, 115, 726, 253, 784, 522, 38, 104, 419, 975, 954, 712, 389, 593, 513, 325, 642, 466, 737, 11, 761, 341, 228, 664, 686, 38, 297, 176, 916, 818, 47, 426, 604, 769, 353, 380, 649, 291, 677, 841, 934, 209, 408, 703, 363, 633, 209, 712, 272, 38, 47, 703, 433, 419, 603, 209, 632, 954, 632, 954, 607, 421, 297, 419, 115, 270, 38, 229, 475, 38, 738, 28, 270, 38, 896, 954, 954, 871, 680, 270, 38, 980, 115, 939, 38, 475, 11, 341, 24, 56, 38, 818, 513, 847, 38, 896, 818, 711, 784, 818, 513, 570, 612, 363, 864, 996, 137, 683, 954, 656, 790, 198, 608, 38, 980, 697, 513, 388, 38, 428, 115, 726, 253, 784, 209, 463, 115, 175, 428, 38, 297, 818, 24, 38, 841, 818, 673, 175, 522, 38, 104, 635, 975, 320, 500, 346, 360, 179, 209, 11, 411, 954, 480, 602, 577, 317, 414, 379, 330, 901, 272, 209, 270, 784, 954, 784, 635, 363, 853, 354, 291, 480, 389, 534, 115, 63, 209, 534, 442, 421, 353, 38, 765, 526, 652, 38, 57, 386, 996, 738, 812, 11, 270, 38, 765, 526, 652, 738, 239, 570, 737, 691, 902, 447, 145, 389, 209, 11, 814, 368, 812, 809, 64, 642, 34, 824, 996, 209, 11, 341, 229, 175, 784, 698, 446, 853, 324, 34, 317, 3, 569, 715, 962, 173, 604, 953, 551, 390, 877, 317, 826, 761, 325, 716, 276, 138, 438, 784, 967, 446, 152, 217, 263, 649, 353, 454, 962, 698, 534, 34, 902, 345, 25, 341, 291, 877, 812, 595, 838, 446, 902, 419, 716, 977, 916, 345, 96, 329, 838, 809, 38, 330, 725, 784, 403, 421, 902, 11, 784, 447, 522, 38, 871, 850, 595, 270, 784, 712, 602, 523, 57, 454, 38, 697, 642, 522, 389, 996, 593, 421, 353, 34, 761, 534, 738, 11, 974, 641, 521, 273, 954, 209, 726, 789, 371, 686, 520, 353, 38, 742, 812, 84, 189, 934, 209, 11, 751, 22, 769, 341, 482, 735, 832, 353, 864, 738, 954, 341, 623, 239, 902, 336, 454, 331, 421, 602, 954, 189, 934, 38, 697, 595, 818, 853, 510, 11, 621, 145, 38, 441, 686, 47, 877, 209, 270, 784, 864, 738, 239, 823, 38, 664, 877, 209, 127, 274, 330, 34, 553, 454, 751, 461, 761, 38, 441, 697, 24, 38, 765, 526, 652, 818, 38, 3, 38, 237, 353, 47, 274, 341, 85, 94, 175, 738, 229, 233, 408, 809, 446, 86, 263, 115, 379, 769, 341, 547, 38, 236, 115, 215, 607, 209, 329, 38, 40, 107, 814, 175, 580, 209, 726, 18, 371, 269, 716, 538, 380, 841, 954, 209, 194, 421, 58, 209, 379, 38, 68, 100, 53, 38, 738, 341, 38, 104, 635, 975, 954, 38, 947, 652, 568, 602, 209, 728, 570, 38, 931, 209, 379, 994, 881, 171, 38, 789, 697, 104, 480, 389, 317, 254, 76, 38, 298, 523, 84, 175, 642, 19, 175, 596, 115, 226, 209, 447, 47, 749, 534, 466, 263, 818, 504, 704, 428]\n"
     ]
    },
    {
     "data": {
      "text/plain": [
       "(None, 953)"
      ]
     },
     "execution_count": 151,
     "metadata": {},
     "output_type": "execute_result"
    }
   ],
   "source": [
    "# integer encode the documents\n",
    "vocab_size = 1000\n",
    "encoded_docs = [one_hot(d, vocab_size) for d in df.text]\n",
    "print(encoded_docs[3686]) , len(encoded_docs[3686])"
   ]
  },
  {
   "cell_type": "code",
   "execution_count": 259,
   "metadata": {},
   "outputs": [
    {
     "data": {
      "text/html": [
       "<div>\n",
       "<style scoped>\n",
       "    .dataframe tbody tr th:only-of-type {\n",
       "        vertical-align: middle;\n",
       "    }\n",
       "\n",
       "    .dataframe tbody tr th {\n",
       "        vertical-align: top;\n",
       "    }\n",
       "\n",
       "    .dataframe thead th {\n",
       "        text-align: right;\n",
       "    }\n",
       "</style>\n",
       "<table border=\"1\" class=\"dataframe\">\n",
       "  <thead>\n",
       "    <tr style=\"text-align: right;\">\n",
       "      <th></th>\n",
       "      <th>padded_docs</th>\n",
       "      <th>rate</th>\n",
       "    </tr>\n",
       "  </thead>\n",
       "  <tbody>\n",
       "    <tr>\n",
       "      <th>0</th>\n",
       "      <td>[954, 727, 828, 10, 356, 994, 954, 136, 686, 5...</td>\n",
       "      <td>1</td>\n",
       "    </tr>\n",
       "    <tr>\n",
       "      <th>1</th>\n",
       "      <td>[115, 454, 47, 667, 737, 382, 812, 75, 171, 86...</td>\n",
       "      <td>1</td>\n",
       "    </tr>\n",
       "    <tr>\n",
       "      <th>2</th>\n",
       "      <td>[169, 38, 543, 437, 784, 698, 175, 24, 954, 11...</td>\n",
       "      <td>1</td>\n",
       "    </tr>\n",
       "    <tr>\n",
       "      <th>3</th>\n",
       "      <td>[185, 607, 954, 115, 169, 619, 770, 361, 11, 4...</td>\n",
       "      <td>1</td>\n",
       "    </tr>\n",
       "    <tr>\n",
       "      <th>4</th>\n",
       "      <td>[940, 960, 363, 363, 698, 341, 24, 126, 446, 7...</td>\n",
       "      <td>1</td>\n",
       "    </tr>\n",
       "  </tbody>\n",
       "</table>\n",
       "</div>"
      ],
      "text/plain": [
       "                                         padded_docs  rate\n",
       "0  [954, 727, 828, 10, 356, 994, 954, 136, 686, 5...     1\n",
       "1  [115, 454, 47, 667, 737, 382, 812, 75, 171, 86...     1\n",
       "2  [169, 38, 543, 437, 784, 698, 175, 24, 954, 11...     1\n",
       "3  [185, 607, 954, 115, 169, 619, 770, 361, 11, 4...     1\n",
       "4  [940, 960, 363, 363, 698, 341, 24, 126, 446, 7...     1"
      ]
     },
     "execution_count": 259,
     "metadata": {},
     "output_type": "execute_result"
    }
   ],
   "source": [
    "# pad documents to a max length of 4 words\n",
    "padded_docs = pad_sequences(encoded_docs, maxlen=max_length, padding='post')\n",
    "padded_docs.shape\n",
    "final_data = pd.DataFrame(data={\"padded_docs\" : list(padded_docs), \"rate\": df.stars})\n",
    "final_data.head()"
   ]
  },
  {
   "cell_type": "code",
   "execution_count": 289,
   "metadata": {},
   "outputs": [],
   "source": [
    "X_train, X_test, y_train, y_test = train_test_split(final_data.padded_docs, final_data.rate , test_size=0.30)"
   ]
  },
  {
   "cell_type": "code",
   "execution_count": 290,
   "metadata": {},
   "outputs": [
    {
     "data": {
      "text/plain": [
       "Int64Index([2174, 5116, 5508, 3069, 8542, 7982, 9620, 5380, 8603, 3852,\n",
       "            ...\n",
       "            5941, 1556, 2187, 6526, 8833, 7951, 7865, 6902, 2975, 5999],\n",
       "           dtype='int64', length=7000)"
      ]
     },
     "execution_count": 290,
     "metadata": {},
     "output_type": "execute_result"
    }
   ],
   "source": [
    "X_train.index"
   ]
  },
  {
   "cell_type": "code",
   "execution_count": 291,
   "metadata": {},
   "outputs": [
    {
     "data": {
      "text/plain": [
       "((7000,), (7000,), (3000,), (3000,))"
      ]
     },
     "execution_count": 291,
     "metadata": {},
     "output_type": "execute_result"
    }
   ],
   "source": [
    "X_train.shape, y_train.shape, X_test.shape , y_test.shape"
   ]
  },
  {
   "cell_type": "code",
   "execution_count": 292,
   "metadata": {},
   "outputs": [],
   "source": [
    "def conve(x):\n",
    "    a = np.zeros((x.shape[0],400))\n",
    "    c = -1\n",
    "    for i in x:\n",
    "        c += 1\n",
    "        for j in range(400):\n",
    "            a[c][j] = i[j]\n",
    "    return a "
   ]
  },
  {
   "cell_type": "code",
   "execution_count": 293,
   "metadata": {},
   "outputs": [],
   "source": [
    "xtr = conve(X_train)\n",
    "xtest = conve(X_test)"
   ]
  },
  {
   "cell_type": "code",
   "execution_count": null,
   "metadata": {},
   "outputs": [],
   "source": []
  },
  {
   "cell_type": "code",
   "execution_count": null,
   "metadata": {},
   "outputs": [],
   "source": []
  },
  {
   "cell_type": "code",
   "execution_count": null,
   "metadata": {},
   "outputs": [],
   "source": []
  },
  {
   "cell_type": "code",
   "execution_count": 229,
   "metadata": {},
   "outputs": [
    {
     "name": "stdout",
     "output_type": "stream",
     "text": [
      "_________________________________________________________________\n",
      "Layer (type)                 Output Shape              Param #   \n",
      "=================================================================\n",
      "embedding_5 (Embedding)      (None, 400, 300)          300000    \n",
      "_________________________________________________________________\n",
      "flatten_5 (Flatten)          (None, 120000)            0         \n",
      "_________________________________________________________________\n",
      "dense_5 (Dense)              (None, 1)                 120001    \n",
      "=================================================================\n",
      "Total params: 420,001\n",
      "Trainable params: 420,001\n",
      "Non-trainable params: 0\n",
      "_________________________________________________________________\n",
      "None\n"
     ]
    }
   ],
   "source": [
    "\n",
    "# define the model\n",
    "model = Sequential()\n",
    "model.add(Embedding(vocab_size, 300, input_length=max_length))\n",
    "model.add(Flatten())\n",
    "model.add(Dense(1, activation='sigmoid'))\n",
    "# compile the model\n",
    "model.compile(optimizer='adam', loss='binary_crossentropy', metrics=['acc'])\n",
    "# summarize the model\n",
    "print(model.summary())"
   ]
  },
  {
   "cell_type": "code",
   "execution_count": 294,
   "metadata": {},
   "outputs": [
    {
     "name": "stdout",
     "output_type": "stream",
     "text": [
      "0.2375691533088684\n"
     ]
    }
   ],
   "source": [
    "import time \n",
    "tick = time.time()\n",
    "model.fit(xtr, y_train, epochs=4, verbose=0)\n",
    "print((time.time() - tick)/60)\n"
   ]
  },
  {
   "cell_type": "code",
   "execution_count": 295,
   "metadata": {},
   "outputs": [
    {
     "name": "stdout",
     "output_type": "stream",
     "text": [
      "3000/3000 [==============================] - 1s 185us/step\n",
      "Accuracy: 96.800000\n"
     ]
    }
   ],
   "source": [
    "# evaluate the model\n",
    "loss, accuracy = model.evaluate(xtest, y_test, verbose=1)\n",
    "print('Accuracy: %f' % (accuracy*100))"
   ]
  },
  {
   "cell_type": "code",
   "execution_count": 296,
   "metadata": {},
   "outputs": [],
   "source": [
    "a = model.predict(xtest)"
   ]
  },
  {
   "cell_type": "code",
   "execution_count": 322,
   "metadata": {},
   "outputs": [
    {
     "data": {
      "text/plain": [
       "(3000, 1)"
      ]
     },
     "execution_count": 322,
     "metadata": {},
     "output_type": "execute_result"
    }
   ],
   "source": [
    "a = np.rint(a)\n",
    "a.shape"
   ]
  },
  {
   "cell_type": "code",
   "execution_count": 329,
   "metadata": {
    "collapsed": true
   },
   "outputs": [
    {
     "name": "stdout",
     "output_type": "stream",
     "text": [
      "Long wait for food, waitresses that don't know what they're doing, grumpy hosts, and crappy food that keeps us off the lake for 2 hours is not somewhere I plan on going ever again. ---------- [0.]\n",
      "****************************************************************************************************\n",
      "Ok, so this is a Sprouts now. Boring.\n",
      "The layout of the store is pretty much the same as when it was Sunflower. I would like this Sprouts more, if it was like an actual Sprouts. Instead it's just a weird transitiony in between \"Sproutsflower\". That's what I'm calling it, until they figure it out. Atleast they still have the soup bar. ---------- [0.]\n",
      "****************************************************************************************************\n",
      "My boyfriend and I were searching for a dive near our house in Old Town for when we just aren't feeling the typical Scottsdale vibe.  I gotta tell you, I think we found it.  \n",
      "\n",
      "We walked in around 7 on a Thursday night, just looking to have a few drinks and some time to talk.  I immediately realized this was not an Old Town bar.  I think I might have been the youngest person there and no one was pretentious at all.  They have a dart board and pool table, and seating with walled mirrors all around.  The patio was extremely well-misted, which was great since it was the day before 4th of July and everyone was pretty much sweltering.  Drinks were stiff and not too expensive and the crowd grew younger as the night went on.  I didn't meet tons of people, but the ones iI did either seemed drunk, super nice or both - not a bad combination.  \n",
      "\n",
      "I would go back again, just not every night (what do you think I am, an alcoholic?)\n",
      "\n",
      "Also - for those of you with bladders of steel and small wallets, I saw a sign that says they do bladder buster deals on Tuesday night.  Small cover and incredibly cheap drinks until someone \"breaks the seal\".  I would suck at this, but I'm sure many a person has taken advantage of this interesting drink special. ---------- [0.]\n",
      "****************************************************************************************************\n",
      "I had heard they were spiced just right but for me it was too salty of a burger.  It was also expensive considering a I had a burger, hot dog, fries and a shake.  Not a favorite but wouldn't mind coming again. ---------- [0.]\n",
      "****************************************************************************************************\n",
      "I was excited about the concept of a haircut and a beer.  So, when I saw an offer from Livingsocial I purchased three coupons.  Here's the trouble... I went on a Tuesday night at 6:30pm and was told they will not honor the coupon until 7pm.  However, I was told if I wanted to pay for a cut at the standard rate, they would take me ASAP.  Nobody was in the joint and they refused to take my Livingsocial coupon until after 7pm. ---------- [0.]\n",
      "****************************************************************************************************\n",
      "Ugh...I had never been to a Waffle House, but my southern friends who frequent them a lot back home convinced me to try it out for a late night creep.  The food is just sub par and sits hard in your belly.  All I ordered was waffles and I wasn't impressed.  I do appreciate that they are open late, so I wont' \"throw the baby out with the bathwater\".  The cocoa was cool and the server was cute, sweet and attentive.  Fortunately for me, my taste buds are already spoiled with The Good Egg.  I'm so sorry I cheated on you baby! ---------- [0.]\n",
      "****************************************************************************************************\n",
      "I wasn't that impressed.  The machines look old and rusted, there didn't seem to be any air-conditioning and it had to be in the 90's inside since it was about 110 outside.  They did have overhead fans.  The price was cheap--45 cents per load to wash in a top loader but we only found one top-loader available that actually worked.  Half of them were Out Of Order.  Instead we dumped everything into two front loaders that claimed to do double loads and were out of there in pretty short order.  We took the clothes back to my daughter's apartment building to dry in the laundry room there so she didn't have to stay with them. ---------- [0.]\n",
      "****************************************************************************************************\n",
      "This was the first Mexican restaurant my boyfriend and I had eaten at when we moved to Arizona. We had good hopes since we were in the West now. Not the case- there is a few good and a few bad:\n",
      "\n",
      "GOOD: It is a great location, in the heart of Old Town Scottsdale. Walking distance from our house !! The patio is the reason we selected this place; not too loud, secluded and enough space between tables  .\n",
      " The food is also pretty good. Chips are awesome and so is the salsa ( I always judge the Mexican restaurants I go to by their salsa )\n",
      "\n",
      "BAD: the first time we went the service was just okay. But we just figured it was because we came on a Friday during lunch. But we have gone back to this place 3 other times and the service keeps getting worse and worse . I asked for water 3 times and never got it. My chips are never refiled and it takes FOREVER to get a beer and the bar is right there. I think I watched my beer sit at the bar counter for 20 mins. and of course it was warm when i go it since it was just sitting in the sun. I should have gotten it myself. \n",
      "\n",
      "We will probably drive a little farther to get better service. ---------- [0.]\n",
      "****************************************************************************************************\n",
      "Yogi's is a great place to grab a quick, fairly-cheap meal. I love the Arizona bowl - it's a great alternative for you sushi craving if you don't feel like spending a lot of money.\n",
      "\n",
      "The quality of the food isn't bad. The sushi rolls are alright. The staff is moderate - they've never done anything to impress me, but haven't done anything to disappoint either. ---------- [0.]\n",
      "****************************************************************************************************\n",
      "Okay so lets clear one thing up.. this place is a dump. \n",
      "\n",
      "But for under $20 a night it is a-okay for me. With all the money we saved I've got some extra cash to hit the strip club that sits directly in front. \n",
      "\n",
      "All kidding aside this place has impeccable location and is pretty much only a couple miles away from anything you can think to do. Of course the rooms are a little outdated and boring but its only a place to rest your head. And you can do that in peace. This has to be one of the quietest hotels I've been too. Almost seems like everyone is scared away from Christie's out front.. ---------- [0.]\n",
      "****************************************************************************************************\n",
      "The fish tacos were good and the trendy atmosphere was nice. But, the whole thing was a bit too formula...like \"restaurant in a box\" concept. No outlyers, not much spice, fairly bland, middle of the road.....but wait, its in Arizona! Ok, no political jokes re Arizona. I was so-so with Blanco and will continue to explore on the next visit. ---------- [0.]\n",
      "****************************************************************************************************\n",
      "Now they are using a hand held drill to buff toenails during their pedi instead of just a quick file.  I can definitely see grow out difference on my nail bed.  Not good. ---------- [0.]\n",
      "****************************************************************************************************\n",
      "I've been back a few times since the last review but the most notable was to see DJ Z-Trip. He was awesome, no complaints there.\n",
      "\n",
      "Bar Smith though? They failed on so many levels. \n",
      "\n",
      "I got there sometime between 10:30 and 11:00 and there was about a 20 minute wait out front. Not the end of the world or anything but after finally getting in, there was a sea of bodies and another very long wait. About 50 people were lined up by the stair case waiting to get upstairs. There was a bouncer not allowing anyone up there until people would slowly trickle out. Why they put Z-Trip on the patio, I don't know. It's the size of a shoe box and was clearly to capacity before 11 PM. FAIL FAIL FAIL FAIL FAIL!! \n",
      "\n",
      "I was in various lines roughly 50 minutes and still hadn't made it upstairs. Forget about stepping out of line to get a drink because you'd lose your place. The short of it is I paid for pre sale tickets, managed to get there at a decent time, and still had to wait close to an hour just to get in the same room as the guy. It was a total let down. \n",
      "\n",
      "At that point I was so ready to just walk out and ask for my money back. They clearly oversold the event and didn't give much thought about their patrons who paid money to see this DJ. They were going to fit every last body into that place if it killed them...and everyone else in there. \n",
      "\n",
      "After finally getting upstairs there were so many bodies, no one could move at all. It was a total clusterfuck. I finally made it to the back bar and stood in line for 10 minutes just to find out their card reader broke earlier in the night. Fantastic. No signs saying it was a cash bar, that would have been a nice gesture. \n",
      "\n",
      "Also, the bathrooms were downstairs, so forget about having to pee AT ALL during the 2+ hours you're there. If you had to go, you better hold it, otherwise you'd be waiting in line for another 30 minutes just to get back up. \n",
      "\n",
      "By the time Z-Trip came on, the sound was bass heavy and mildly distorted. I inched my way to various parts of the patio but the sound didn't get any better, so my partner and I said fuck it and went downstairs for the rest of the night. Thankfully they were playing his set downstairs and upstairs. At least people could move more easily downstairs. Plus the sound was better. And the bathrooms were actually accessible. \n",
      "\n",
      "Even at the end of the night, there were people standing in line waiting to get upstairs. Bar Smith gets a huge \"F\" as far as I'm concerned. I won't be back to this place for any headlining DJ. They obviously don't know how to run an event. ---------- [0.]\n",
      "****************************************************************************************************\n",
      "I have nothing more to add, but I don't want anyone to think 'only a few' people had  complaints about this poorly planned \"festival.\" \n",
      "\n",
      "Oh, wait, I do. \n",
      "\n",
      "I was there with my 4 year old grand-daughter (and my daughter), since there were going to be kids attractions as well as the food trucks. I thought it was nuts that 3 minutes of jumping around cost $3. But I guess it was consistent with the $4 water and $7 beers.\n",
      "\n",
      "And it would help if there was some roadway controls and/or temporary signage. By 11am, traffic backed up (down) Pima from the event to Indian Bend and over towards the 101. Cars were skipping ahead and cutting into line, further delaying entrance. \n",
      "\n",
      "If success is measured by interest, the festival was a success. If by performance and customer satisfaction, not so much. And how can a vendor commit to showing and not have enough food to feed the presold ticket holders? Why risk your hard-fought reputation? ---------- [0.]\n",
      "****************************************************************************************************\n",
      "The location is definitely an older location and isn't as large and updated as other Harkins around the valley.  \n",
      "\n",
      "The biggest theater is on the smaller side compared to the newer locations.  The staff is about average, not rude and not nice.\n",
      "\n",
      "The parking situation is shared in a strip mall, with a Blue Burrito Grill, Pita Jungle and Gelato Spot, so parking is a bit of a challenge. \n",
      "\n",
      "If you are interested in a \"no frills\" experience, this will do the trick. ---------- [0.]\n",
      "****************************************************************************************************\n",
      "I've got mixed feelings about at&t... just as I'm sure that most people have mixed feelings about their mobile carrier.  But this review isn't for at&t as a company, it's just for the Scottsdale store where I stopped in recently to return a phone.\n",
      "\n",
      "Long story, but I had a temporary android phone and hated it.  After hours (literally hours) on the phone with at&t customer service, I worked it out so that I could return my android phone at this store and then head over to the apple store with my upgrade eligible status to get the new iPhone.  That part is another story, and took longer than expected, but luckily, I did have a decent experience at this store thanks to the help I received from Hasen, the retail sales consultant that helped me out. \n",
      "\n",
      "I hope there isn't really ever a need to return to this store, but if you must go, ask for Hasen... he was friendly, answered my questions, and provided the service I was seeking in a speedy yet attentive manner. ---------- [0.]\n",
      "****************************************************************************************************\n",
      "I had such a nice experience here - Classic Chicken - the first time that I really wanted to go back. Second time, onion strings were so greasy I couldn't eat them, burger was okay. Third time, yesterday? Enough to say we wont go back. Ever. \n",
      "\n",
      "Lovely and I sat in a sticky booth, he ordered 1/3 lb classic, me the bbq grilled chicken - both with a small soda. Soda was disgusting, flat, watery, gross. Upon the lovely's complaint, the bus boy brought him bottled water. I took one bite of my sandwich and was assaulted by hair. Gak. We got up and left our food. Jeff told the manager about the food and the soda, we got our money back with an apology saying they were sorry we 'didn't have a better experience'. Um. A better experience??? Seriously? 15 dollars? \n",
      "\n",
      "Ugh. ---------- [0.]\n",
      "****************************************************************************************************\n",
      "I was on my way into Sweet Republic just before Christmas when I spotted Painted Pretzel a few doors down.  Since I love pretzels, I was imagining all sorts of delights.  Hard pretzels in knots, twists, and rods covered with the finest chocolate.  Freshly baked soft pretzels salted, or rolled in cinnamon and sugar, or butter and garlic.  You name it.  They were going to sell it.\n",
      "\n",
      "Well I was sorely disappointed.  Upon entering, I realized this is probably more of a mail order type business.  No soft pretzels, either.  They specialize in pretzels dipped in chocolate and topped with nuts, candy pieces, etc.  There were some boxes of pretzels already made up, and we purchased a few.  The honey wheat pretzel rods were actually pretty good, the small bite-sized pretzels were nothing special.  The chocolate was a nice quality, but not the best.  \n",
      "\n",
      "Although they hand dip all the pretzels, they do not make the actual pretzels.  So if you're on a local foods kick, which I'm not, this isn't the place for you.  Not bad to have around the house and for gifts to pretzel lovers or corporate gifts as they are better than the products you would find in most grocery stores.  I was just hoping for a little more. ---------- [0.]\n",
      "****************************************************************************************************\n",
      "The price is a little high for me.  They don't give enough bean sprouts without asking for more.  The pho broth is a little too sweet for me also ---------- [0.]\n",
      "****************************************************************************************************\n",
      "I stumbled upon this Friday's while walking around Phoenix on a Sunday afternoon.  I wanted to just go up and have a drink and then take some pictures of the empty baseball field.  Phoenix was completely empty!\n",
      "\n",
      "When I got closer to Chase Field there were some more people and I realized that there was a game going on!  I didn't think I would be able to get into Friday's because of the game; however, it wasn't very busy!  I sat at the bar since I was by myself.  But once I was there awhile, I noticed there were still tables open looking out into the ballpark.  So basically you get to watch the game for free as long as you are ordering stuff.  I thought that was pretty cool.\n",
      "\n",
      "As for the food/drink...\n",
      "I ordered a daiquiri when I sat down.  It was pretty bad.  Almost too slushy.  I looked through the menu and asked if they had any smaller portions or lunch portion.  I was told that since it was a game day they have a different menu and everything is larger.  So I didn't order any food.\n",
      "\n",
      "The service was good.  The waiter was nice and another waitress named Kimmy even came up and talked to me for a little while.  I'd definitely come here again just for the view. ---------- [0.]\n",
      "****************************************************************************************************\n",
      "I've been frequenting this Savers since the day it opened a few years back... \n",
      "\n",
      "They have a great one dollar tag sale on Mondays which is pure bliss I tell you!! Having a tough week, head over to Savers with a 20 dollar bill on Monday and you will come out a new woman with a new wardrobe!! \n",
      "\n",
      "My mother is the one who actually got me hooked on this deal lol.. The original frugality of the family lol. \n",
      "\n",
      "Overall, I cannot give this thrift store five stars just because I am a thrift store whore and have visited about every thrift store in and around the Phoenix area and have plenty of experience with many other thrift stores. \n",
      "\n",
      "This Savers requires a lot of digging, but some of my best finds have been a Dooney and Bourke gently used wallet for $16.00. Banana Republic black sling shoes for $5.99. Brand name NEW work out clothes and plenty of NEW with tags vintage dresses all under $9.99. \n",
      "\n",
      "This Savers is okay for just cheap everyday wear, other than that you won't find many unique and extravagant pieces here. Also, for some reason, everyone that shops here is really nice and friendly, no competiveness at all :) ---------- [0.]\n",
      "****************************************************************************************************\n",
      "3 Stars only because the house margarita and guacamole was so good.  The food was decent (fish tacos), however the patio atmosphere was a bit sad. I understand this is more of a bar than a fine dining restaurant but the patio tables had no place settings, condiments, etc... Just cheap metal tables and chairs. Also - there was no music out there, just this incessant humming of a back alley generator.  \n",
      "\n",
      "The service was a bit sporadic out on the patio as well. We were asked by three different servers if we have a server yet. Not much in the way of organization. \n",
      "\n",
      "Maybe management just hasn't gotten around to fully organizing and furnishing the patio yet. I hope they do, because they are in a great location and the food and drinks give them lots of potential. ---------- [0.]\n",
      "****************************************************************************************************\n",
      "Angry Bro Bar !  Please go here if you wear size smedium affliction shirts you will love it. The bar is lame. Kid you not there was not five minutes that went by where two people didn't try and fight each other. ---------- [0.]\n",
      "****************************************************************************************************\n",
      "We had the potstickers, kobe beef skewers, red curry clay pot and sizzling shrimp. All of the items were mediocre at best. The potstickers were deep-fried and way overdone. The beef was also overcooked and somewhat flavorless. The curry was very spicy but otherwise strangely bland. Steamed rice was extra and came in a cup sized bowl. If I had been told that the shrimp dish was store-bought and microwaved, I would not have argued with that.\n",
      "Service was normal. Music was annoying club tunes and too loud for 6pm. \n",
      "All in all, I'm glad we had a groupon and didn't have to pay full price for a decidedly below average dining experience. ---------- [0.]\n",
      "****************************************************************************************************\n",
      "Ugh.\n",
      "I used to like this place.\n",
      "But I've gotten over it.\n",
      "\n",
      "I find the food to be uninspired, and below average.\n",
      "\n",
      "Blah. ---------- [0.]\n",
      "****************************************************************************************************\n",
      "Ruby Tuesday's salad bar and healthier choices (With caloric count for calorie counters) for entrees is what sets it apart from other chain restaurants that serve your basic American style cuisine.  The salad bar includes 2 types of base greens (Iceberg and mixed greens), with various toppings (Edamame, peas, mushrooms, croutons etc.) and dressings (Italian, low fat balsamic, ranch, thousand island, etc).  \n",
      "\n",
      "Generally, with any main entree, you will have your choice of side and salad bar, or 2 sides.  They also have more healthy side options such as roasted spaghetti squash and steamed broccoli.  My husband had the chicken trio, and I had the creole fish on our visit.  The chicken was nicely presented, and was fairly tender and juicy.  Of the three different toppings (Balsamic and tomato, mushroom cheese, and mango salsa), my least favorite was the mango salsa since the mango in it, while fresh, wasn't totally ripe.  The creole fish was presented in a Spartan way, with just one piece of fish with a mound of side next to it on a plain white plate.  The fish (Some type of white fish, maybe carp?) was a freshwater white-flesh fish and had a decent seasoning and was cooked well. \n",
      "\n",
      "Service was friendly, but we did not have any silverware on our table when we were seated and had to ask for it after our entrees were served to us.  Drinks were refilled quickly as needed.\n",
      "\n",
      "I haven't indulged in a lot of the desserts, but I am a fan of the Italian creme cake.  It's moist, and not too sweet.  \n",
      "\n",
      "Prices are moderate, and entrees will be around 15 dollars, give or take a few dollars. ---------- [0.]\n",
      "****************************************************************************************************\n",
      "I give this review a total 1 star If I was able to, I would have rated no stars at all!.... I would NEVER reccomend ANYONE to live here. The office staff is horrible and made me feel uncomfortable the whole year I lived there based on THEIR MISTAKES! I can not express how disappointed I am with the way that they have treated me..... ---------- [0.]\n",
      "****************************************************************************************************\n",
      "We just stopped here as Slices no longer exits at TMP :(\n",
      "\n",
      "For JUST cold meat sandwiches...they are over priced. Short variety and more than $3 for some salame, cheese in average white bread.....no thank you. ---------- [0.]\n",
      "****************************************************************************************************\n",
      "Simply stated..............a GREASY burger from start to finish..\n",
      "\n",
      "NOT 4 me....This place I will avoid while I continue on to a real good burger joint.!! ---------- [0.]\n",
      "****************************************************************************************************\n",
      "I wouldn't write a review on a franchise unless it pissed me off. I prefer Papa John's pizza to Dominos or Pizza Hut (by far), but there are some major service issues that have made my five ordering experiences pretty irritating.\n",
      "\n",
      "They can't find my house. It's not hard to find, I swear. It's a piece of cake, and a stone's throw from a major crossroad. They had once taken two hours to deliver a pizza, saying they tried to call me (they didn't), only to return to the store and bring it back once I called. Naturally, I was delivered a lukewarm pizza, but in the nicest way possible was told that it was *my* mistake.  Unacceptable, in the age of online ordering and GPS systems in our phones, there is no excuse for getting lost in what is essentially a three mile drive in a straight line. \n",
      "\n",
      "Without complaining, I had received a coupon for a free large pizza. Apology accepted. Upon visiting the store, I got to keep the card *after* ordering because they gave me the wrong toppings. Suckers.\n",
      "\n",
      "Also, they always take longer than the ETA, even in the middle of a weekday. Even now, I am waiting 70 minutes for a 30-40 minute order, and when I had called 15 minutes ago, was told it was on its way, but that construction was holding it up. Yes, there is construction, but you have taken this long in the past without it. Also, construction would not explain why it takes nearly an hour to produce one large pizza. I even tip nicely.\n",
      "\n",
      "I enjoy Papa John's pizza, but unless my complaints are addressed, I will never order from this location again. I will encourage my friends to follow suit. RAWR. ---------- [0.]\n",
      "****************************************************************************************************\n",
      "Hot Breakfast..........NOT, Again cold food when it supposed to be hot....people beware of this over price place and lack of care for the customer it seems that this is the way of doing business.\n",
      "\n",
      "*** Again a nice place to visit but DO NOT EAT HERE.*** And DO NOT CARE! ---------- [0.]\n",
      "****************************************************************************************************\n",
      "Not a bad place to go but not my first choice. The food is good but nothing unique or special. ---------- [0.]\n",
      "****************************************************************************************************\n",
      "Not super impressed. The food was just ok. My friends said the French toast was good, but my Goat cheese, tomato and mushroom omelette had maybe had an oz. of goat cheese. At 9$ it was a rip off. The potatoes were good,but nothing special. The mimosa was excellent, but made from Andre, so after consuming it I had a headache. The service was slow, but they were good about refilling my coffee and water. Just an ok experience. ---------- [0.]\n",
      "****************************************************************************************************\n",
      "I am not going to complain about the quality of my manicure! They did a fabulous job...On the other hand their customer service was a little off. Very unorganized and they could just not get it together. It took them forever to assist us since we didn't have an appointment and are not regulars. ---------- [0.]\n",
      "****************************************************************************************************\n",
      "Sorry Banana Leaf... I'm usually not picky at all but the Thai Curry Tofu and Vegetable dish I picked up last night was awful.  Really... it was almost not edible.  The packaging was not great, so it kind of spilled a bit in the bag - not a good start.\n",
      "\n",
      "Perhaps the curry is the 'yellow curry' that Jenny R refers to in her review - maybe the chef should taste it before serving it - it was nasty!\n",
      "\n",
      "Seriously, I've had better Asian food from the food court at the mall before!\n",
      "\n",
      "I will say, you did listen to my request to add eggplant to the dish - thank you... but if someone requests eggplant, perhaps you should make sure it's cooked fully next time.  I had a bite that was barely cooked - it was crunchy.  \n",
      "\n",
      "So, needless to say - I don't think I'll be giving you another shot.  First impressions sometimes last a lifetime.  Sorry Banana Leaf! ---------- [0.]\n",
      "****************************************************************************************************\n",
      "Friendly reps, painfully high tire price quote.  Found em for $100 less, per tire while waiting for my car to be pulled up. ---------- [0.]\n",
      "****************************************************************************************************\n",
      "If I'm rating strictly on getting what I wanted out of the visit, this doctor is fine.  He checked my eyes, did all of the tests and I walked out with my prescription.\n",
      "\n",
      "Here is why I can't give him a good review (and this is solely based on my personality and preferences while dealing with the service industry- others may think he's wonderful...)\n",
      "\n",
      "1)  I purposely chose an early morning (7:30 a.m.) appointment so that I would get to work by 9.  My office is less than a mile from his office and I was still running into work at 9:05 a.m.  This is due to the very long-winded soap-box like speech that Dr. Greene gave me.  I am a get-in, get-out type of person who hates small talk and hates self-promotion even more and if I heard him tell me how often he visits the gym or works out one more time, I probably would have gauged my eyes out right there to never need an optometrist again.  I also learned all about his wife, friend's boat...you name it...he told me about it (completely unsolicited).\n",
      "\n",
      "2)  I am an educated individual who does not need an hour-long explanation- filled with graphical references and cutesy anecdotes- about why I now need progressive lenses.\n",
      "\n",
      "3)  The fear-inducing sales pitch by the staff and the doctor was a bit much.  I realize that all optometrists and dentists are going this route now- \"buy this test (not covered by insurance) and be free from worry that you'll instantly go blind\"; however, if I want something, I'll ask for it...just like any other retailer.  \n",
      "\n",
      "Like I said...I got what I needed, a solid eye exam and prescription.  However, I purposely did not buy glasses there due to the doctor's cheesy personality and the \"hard-sell\" environment.  Again, there are obviously (based on the other posters) people who are attracted to this type of personality...I am not one of them.  \n",
      "\n",
      "Hence, why I do most of my shopping online. ---------- [0.]\n",
      "****************************************************************************************************\n",
      "La Grande Orange Grocery has a problem. It can't decide what it wants to be when it grows up, and that makes the overall experience iffy. Is it a quick mart? A grocery store? A restaurant? A coffee shop? Unfortunately, it can't be all of them.\n",
      "\n",
      "I love La Grande Orange Pizzeria, when there is table service, fun wait-staff, and delicious food. But during the day on the weekends, the Grocery is too busy and unorganized to tolerate. It is not set up for the crowd, they do a poor job of line management, and when there is a line to order, the rest of the Grocery is impossible to navigate. To top it off, the counter staff shouts at you when your food is ready. Unnecessary.\n",
      "\n",
      "I'll certainly be back at night for the pizza, the delicious wings, and to partake of the best gelato shop adjacent to LGO. But I'm afraid that I won't be back for the weekend chaos. ---------- [0.]\n",
      "****************************************************************************************************\n",
      "What kind of sports bar doesn't serve SLIDERS??? Nachos, quesadillas, and celery/carrots options but NO SLIDERS??? Guess that just goes hand-in-hand with the NO MALIBU RUM option!! At least the bartender asked me if their fake option was okay first. Hello... no!!!! \n",
      "\n",
      "Wait service was crap after a spring training game as they did not have nearly enough staff to serve people. Had to wait 15 minutes in a booth before anyone acknowledged us. BUZZ KILL!! \n",
      "\n",
      "On the plus side, patio is pretty cool and the pool tables when it's not a busy time! ---------- [0.]\n",
      "****************************************************************************************************\n",
      "Service here is unfriendly at best ( i sat in the bar)menu both lunch and regular boring .chips ok salsa served in a small caraf which makes it inconvienent  to get salsa to chip. food was ok some of the chicken in my taco was dry do to the 8 million degree oven they put it in before serving to you . this place is a true tourist/youngen scottsdale hipsters joint ---------- [0.]\n",
      "****************************************************************************************************\n",
      "Treachery! Seek it out:\n",
      "\n",
      "Let me begin this review by saying that mine is not an indictment on this particular location but on every single P.F. Chang's I've had the misfortune of being dragged to.\n",
      "\n",
      "P.F. Chang's is effectively the Cheesecake Factory of bad Chinese food, with the disadvantage of not being as capable of delivering passable food. They bill themselves as a \"gourmet\" Asian experience, which is a bit of a laugh when they turn around and sell you their equally horrible frozen entrées right from the convenience of your local Wal-Mart. Everything is bland, overcooked, and ridiculously priced. \n",
      "\n",
      "Once you've paid nearly $14 for their \"orange peel chicken\", you may privately hope to yourself that they might have the audacity to include some fried rice. This is your second mistake. Sadly, the bistro calls you on your bullshit. You get white or brown--fried rice is several dollars extra and not at all worth it.\n",
      "\n",
      "Everything seems to be cooked just wrong--things that shouldn't be are too crispy, things that should be sauced are too dry, things that should taste good make you question the will of the gods, all the while you find there's no way to escape the treachery.\n",
      "\n",
      "Things get more and more frustrating as you dig deeper: P.F. Changs, while sounding vaguely Asian, is a wholly American creation. It was founded by Paul Fleming (in Scottsdale, actually) with SOMEone with some Asian influence to spice it up a bit, named Philip Chiang. (They literally cut out the poor bastard's \"i\" so that it would \"fit on the signs better,\" or, as I like to believe, not scare away the flyover-states-white-folk so.) It's highly Americanized (and yes, I've had Chinese food in China, but I've also enjoyed great \"American Chinese\" food here) to the point of regrettable blandness and it is SO VERY EXPENSIVE you may find your credit score taking a ding after eating a plate of \"wok charred beef\", listed as one of the saltiest foods in America.\n",
      "\n",
      "The decoration is clumsy and their famous inclusion of terra cotta warriors are literally symbols of death. From Jennifer 8 Lee's Fortune Cookie Chronicles:\n",
      "\n",
      "'But not everyone finds the terra-cotta warriors charming. \"Chinese people would never put that in a restuarant,\" Jim told me, pointing at the statues. \"It's not lucky. It's something you put at a burial site! But in America, they think it's a Chinese thing.\" From a Chinese perspective, P.F. Changs is decorated with death.'\n",
      "\n",
      "Which is just fine, because everything there tastes like death anyway. ---------- [0.]\n",
      "****************************************************************************************************\n",
      "Not a bad sub which I find to be something I can eat almost daily.  Prices are a little higher than a Subway but their meat is freshly sliced to order and they do a much better job with their bread.  They are still lacking the hard crust french/Italian bread that I crave since leaving the East Coast but this is something I have learned not to expect out here in AZ.  \n",
      "\n",
      "The girls that work behind the counter are excellent and a few have been there for years.  They know service and are fast and great at keeping the lines at bay. ---------- [0.]\n",
      "****************************************************************************************************\n",
      "Will never eat here again. Sandwich was meteocre and overpriced. On top Of that I was charged more than I was told the total was. Horrible first time experience! ---------- [0.]\n",
      "****************************************************************************************************\n",
      "This place is located right on Mill, with a patio that is right in the action.\n",
      "\n",
      "they gimmick of this primarily college bar is their frozen drinks, which are tossed around in Kwik-E-Mart squishy style windows behind the bar that you can see. they come in plenty of flavors like red, green, orange, etc. seriously, they all taste the same to me, and after a couple they only become recognizable by color.\n",
      "\n",
      "the frozen drinks are loaded with sugar and everclear (like the HIgh Octane) so it only takes two to feel super drunk and have a real bad stomach ache (which feels even worse the next day).\n",
      "\n",
      "they also have regular beers and liquor, and even a menu - which i never realized til someone sitting next to me was presented  a hamburger at their table. \n",
      "\n",
      "overall it's not my style, gimmicky, co-edy and obnoxious, and i only end up here when someone else wants to go here for some reason that i can never fathom. ---------- [0.]\n",
      "****************************************************************************************************\n",
      "I have heard so many good reviews for this place, so who wouldn't try it? I should have taken the hints before I got my meal, that this wasn't a good choice.\n",
      "\n",
      "Hint 1: Location - It's right next to a smoke shop and a gas station across the street from a mobile park.\n",
      "\n",
      "Hint 2: Food test - It was nice that I got to sample the food even if the first sample wasn't up to par, the guy wouldn't leave me alone about sampling.\n",
      "\n",
      "Hint 3: Decor - I know this should never have anything to do with the food, but it felt like I was eating at a cousins house on the bad side of town, wobbly chairs, wobbly table.\n",
      "\n",
      "I ordered the teriyaki chicken (didn't think it would be bad, I mean who can mess up teriyaki?) With chicken fried rice (once again, how on earth can you mess up fried rice?) \n",
      "\n",
      "The chicken tasted like it was frozen and thawed out all day. Such a horrible taste. The fried rice tasted like it too was thawed out, kind of had a gross tangy after taste. There also wasn't any spices or egg in the fried rice, just a bunch of green onion,which technically isn't a fried rice. This meal can be related to something you get in the frozen section at a grocery store.\n",
      "\n",
      "They also give you a snickerdoodle cookie, that looked like it could be the best thing on the menu, until I noticed it wasn't cooked all the way through.\n",
      "\n",
      "But the icing on the cake was the gross pube like grey hair I found floating in my teriyaki sauce. \n",
      "\n",
      "So the expensive $8 meal was so not worth it, and I 'm sure when Diners Drive Ins and Dives visited, the food was great, but today it was the grossest thing I've ever had. ---------- [0.]\n",
      "****************************************************************************************************\n",
      "Just so you are aware, phone calls are now 50 cents for 3 minutes. So proclaims the hand scrawled sign behind the bar next to the register. Even dive bars need a bit of order amongst the chaos.\n",
      "\n",
      "Ducked in here for a cold one after walking the fest in Melrose, I'm just a sucker for a dive bar. Once my eyes adjusted to the darkness, I saw an amazing mix of people. Some almost hipsters, Indians and traditional barflys. \n",
      "\n",
      "The Dos Equis was frosty and cheap, there was a back door for quick getaways or for smoking. Times truly are tough as I noticed on a trip to the men's room that three of the flys were passing around a hand made cigarette. ---------- [0.]\n",
      "****************************************************************************************************\n",
      "I shouldn't have judged this place so soon. They are local to my apartment, they do deliver for $2.90, but I've been back 3 times since my first review and I'm getting bummed out here.\n",
      "\n",
      "A few weeks back my boyfriend and I wanted to get a little buzzed at home, so we decided on streets of new york to deliver us some grub. We went with pasta. My boyfriend got the spaghetti with meat balls, and I got the meat ravioli. Ah I really hate to say this, but I would have had a better time eating a can of Chef Boyardee. I don't know what is up with their \"beef/sausage\" but it always has a funny taste to it. Kind of like when you re-heat a hamburger in the microwave. That taste. I was less than impressed. The salad it came with was decent, and I'd go back just for the bread, but even with a buzz I wasn't enjoying my pasta. The boyfriend agreed it lacked flavor and was 'off'. \n",
      "\n",
      "Then yesterday we decided to have another one of these nights, and do the Pizza instead since our pizza was good the first round. I got chicken and pepperoni on mine, and he got sausage. They charge extra for chicken. Um.. I don't really understand why. The chicken is breaded chicken strips that they just cut up and threw on the pizza. I wasn't impressed AT all. The sausage on my boyfriends pizza tasted weird and sweet like.... I don't know what's up with this place!\n",
      "\n",
      "So I say if you're going to go with one of their pizzas, definitely get a coupon and stick to the basics. I suggest the bacon, or pepperoni. ---------- [0.]\n",
      "****************************************************************************************************\n",
      "Staff is nice, and that's it.\n",
      "They use very cheap tires that only last for a year. ---------- [0.]\n",
      "****************************************************************************************************\n",
      "I've been here a grand total of three times, and I probably won't be returning any time soon.  It's not that the food is flat out bad, per se, it's just that there are many better options nearby. The first time I went on a recommendation, and the food was... OK. The 2nd time I went the food was still only... OK. The third time... well, you get the picture.\n",
      "\n",
      "The first obvious knock against Rosita's Place is the chips and salsa. They're not bad, but they're not complimentary. Given all the competition which offer free chips and salsa, you'd think these would have to be pretty darn special, but they're not. Good, but not outstanding.\n",
      "\n",
      "Secondly, the rice and beans are just OK (that descriptor keeps coming up in this review). The chicken enchiladas were fresh, but lacked any real flavor or spice. The machaca, which is supposed to be  one of their specialties, was soggy... a BIG no-no for a dish that is a specialty in this region.\n",
      "\n",
      "So, honestly, while I wouldn't discourage anyone from going here, I'm not sure what some of the hype is about, especially when Rito's, Tacos De Juarez, and Comedor Guadalajara aren't that far away. ---------- [0.]\n",
      "****************************************************************************************************\n",
      "I like Rubio's in general, but this location is pretty hit or miss on the food quality and service.  I prefer the one on the other side of the I-10 next to the movie theater. ---------- [0.]\n",
      "****************************************************************************************************\n",
      "I really want to like MADCAP. I love the idea of playing old b-movies and some forgotten favorites. The boyfriend and I went to MADCAP last weekend to see their Chuck Jones presentation. Unfortunately, we were pretty disappointed, not that it was completely MADCAP's fault but still.\n",
      "\n",
      "My biggest problem with MADCAP is the price of admission. $10! That's more than a new movie. Why should I pay $10 to see a movie that I could get on DVD for half the price? I know the money is going to a bigger cause - having a cool theatre in town - but I just wish it was cheaper. If it was $5 I think I would go a lot more. For $10 it has to be something I really want to see and after not being so impressed by the Chuck Jones things I'm a little wary.  There wasn't even a screen in the theatre - just a white wall.\n",
      "\n",
      "If they showed new independent movies for $10 and old movies for $5 I think they would really have something cool going on. I hope they can figure it out because I'd really like to see the place become what it could be. ---------- [0.]\n",
      "****************************************************************************************************\n",
      "Minnie and I stopped by Papago Dog Park today on a whim... \n",
      "\n",
      "It was a beautiful day and since she was such a good girl in the car with me and at my afternoon meeting, I wanted to reward her.  Rather than travel out of our way to go to Chaparral Dog Park (our usual dog park destination), I remembered seeing this place, specifically the fenced in / off-leash area, and we swung by.\n",
      "\n",
      "It was just after 4pm, and there were a handful of dogs there, and more were coming the longer we stayed.  It's a lot smaller than Chaparral, and the grass is not the healthiest I've seen... Unfortunately, there were several areas that owners didn't clean up after their pooches too.  (Come on, owners, you give the rest of us a bad name!)\n",
      "\n",
      "Anyways, we had a nice 30 minute visit... Minnie sniffed out a few other dogs from behind and then they returned the favor to her.  Don't you love how they socialize with each other?!  Too cute.\n",
      "\n",
      "Anyways, will this become our dog park of choice? No.\n",
      "Is this a viable option if you're in the area? 100%. ---------- [0.]\n",
      "****************************************************************************************************\n",
      "Disgusting!  Had a Groupon so my daughter and I tried it out.  Very outdated and gaudy 80's style interior made me feel like I was in an episode of Sopranos.  The food itself was pretty bad.  We ordered pretty simple dishes but they just had no flavor at all!  After trying it out I'm positive all the good reviews on here are employees or owners creating them. ---------- [0.]\n",
      "****************************************************************************************************\n",
      "We like it. L and I 2nd date was here, and we made out outside. It was hot and sexy. Do we remember the wine? We love wine,but I remember the kissing. Kissing beats any 97 point wine. D.C. Ranch overall, just has not made it, for restaurants and retailers when I lived in Az. This has nothing to do with the restaurant just an overall impression to yuppie? ---------- [0.]\n",
      "****************************************************************************************************\n",
      "If they werent located around the corner, I would never use this store.  I have taken back produce MULTIPLE times due to expiration so watch the dates when buying!! ---------- [0.]\n",
      "****************************************************************************************************\n",
      "Since this was a little local spot I always passed, I decided to give it a try one day. The décor is so beyond needing an update, it needs a complete makeover. If you had Mr. Ramsey visit, he would say, \"Oh God...what were you thinking\". The location is great and I think that the restaurant has potential to do better than it is. The prices were about average in comparison to other breakfast restaurants in the area and the menu had a wide selection of breakfast goodies. The food was extremely average...I would have to compare it to the quality and creativity of Denny's. Nothing special, and for $30.00 for breakfast for two...I would not go back. There are so many great restaurants in the area and I like to support local business but this place just needs to start from scratch to make it great. ---------- [0.]\n",
      "****************************************************************************************************\n",
      "Chain restaurant that's just about okay for afternoon dining with friends. If I wasn't having beer at lunch I'd probably suggest eating someplace else. Food is good but in my experience their beer makes the meal. I've eaten here about half a dozen times during the past few years when in town for business weekends.\n",
      "\n",
      "It is centrally located on the corner of Mill and Fifth Street in downtown Tempe, amongst quite a few other local restaurants. During my most recent visit I ordered a steak at lunch along with one of the seasonal brewed beers. Steak was okay but I wouldn't order it again. Beer was exceptional, so I wasn't unhappy overall.\n",
      "\n",
      "I love burgers and I think I'll stick to that as my primary choice when eating here in the future. I can't think of any times when service was particularly unsatisfactory, nor were there times when service really stood out as exceptional. I have almost always eaten here on a Saturday afternoon, and it's typically been fairly busy during the lunch hour. Never had a problem getting a table, which is important since I'm usually heading back for an afternoon conference session.\n",
      "\n",
      "I love the big glass beer mugs (not sure what size they are) but I can't always down the whole thing during a short lunch break (I'm a lightweight).\n",
      "\n",
      "Overall, good place to eat if you're hungry and in the downtown area, but I wouldn't go out of my way to get here. ---------- [0.]\n",
      "****************************************************************************************************\n",
      "I've fequented here often enough to know that all the majority of the games here are all those ticket games and little claw type games. I come to hang out with friends and play some games. I can in on tuesday night around 6pm and thought to have dinner there since I had a coupon for the place. I really didn't care about price at the time with the coupon.\n",
      "\n",
      " After being seated our waitress got our drinks took our order and everything was fine. After we recieved the food we were left unattended for quite some time. When the waitress finally returned I had to ask for a refill and some ketchup as well. My drink was empty so I would assume that would be something that the waitress would ask but I caught her before she left. My boyfriend did not recieve a single refill the entire night and we were there from 6pm to 9pm.\n",
      "\n",
      "We had friends meet us there and we just chatted it up for some time. It wasn't for some time that we realised that the place was bare not just of customers but of staff as well. It was as if they closed the place down and just left us. After the waitress had taken our check and cashed us out that was the last we saw of her. The plates of our food were still in front us the entire time and we had kind of placed them all together so that she could come and just take them...kind of thought that the bunch of plates stacked together would give the hint we were done but I guess I shouldn't be so subtle next time. \n",
      "\n",
      "The food was ok at best. Nothing bad nothing good in hind sight though if I had to pay full price for what I got if that waitress had left us like she did and I didn't frequent the games I would've walked out. Probably wouldn't notice. \n",
      "\n",
      "All in all go for the games if anything else. The games are even ok that is IF they are running. Sometimes I come in and games are off or not working. This is just a place that is convienent for myself and friends to meet up. ---------- [0.]\n",
      "****************************************************************************************************\n",
      "I liked the concept. Staff was very nice. Food tasted like it was warmed up in a microwave and cold on top and warm on the bottom. After we watched our  movie we wanted to purchase tickets a week in advance for another movie. We went to customer service and asked them if they knew if TinTin would be playing on Weds. (we were there Saturday night). They told us they did not know and we would have to check on Weds. Whaaat? They don't know what movies are playing the following week? I was ticked off... their website is no better. It is confusing and hard to order tickets. I searched for tickets for tomorrow and it says showtimes not available. Sure seems like they don't want anybody to come see any movies. After spending $100 for food and movie I think I will try a different place. ---------- [0.]\n",
      "****************************************************************************************************\n",
      "I don't know how this place stays in business. The menu is so limited. Would you like chicken or chicken? Chicken in a pita? Chicken on some lettuce? Chicken rolled in a tortilla? And the pita chips are bland! Yuck! And  the potato salad has something in it that is way too tangy. I've only been twice and tried different dishes both times but I just don't get anything greek about this place. ---------- [0.]\n",
      "****************************************************************************************************\n",
      "PIECE OF **** manager wouldn't put air conditioning on yesterday. It was 90.\n",
      "They just lost alot of business. ---------- [0.]\n",
      "****************************************************************************************************\n",
      "My husband and I were really, really disappointed with our experience at Coulter Infiniti.  We brought our 2006 G37 with barely 34,000 miles (and out of warranty) to have the moon roof looked at.  The moon roof wouldn't open or close, but you could hear the motor working.\n",
      "\n",
      "After leaving the car there all day we get a call that the car needs a whole new moon roof track - which would cost over $3000.  We contacted their corporate office to attempt to get some or all of the cost covered, due to the fact that it's a big repair and the car  is barely out of warranty.  We were flat out denied.  Twice.  \n",
      "\n",
      "We were dreading the big repair, and decided to bring the car to a different auto shop (which will get a big, fat 5 star review) for a second opinion.  Turns out the track just had a BUILD UP OF DIRT AND DEBRIS and needed to be cleaned out.  Seriously?!?!  Just over $100 later we were on our way!\n",
      "\n",
      "I find it VERY hard to believe that Coulter didn't know this was the problem.  We are now searching for a new SUV, and will not be choosing Infiniti.  How disappointing. ---------- [0.]\n",
      "****************************************************************************************************\n",
      "Hands down, the single worst public mass transit system I have seen ANY PLACE I have ever lived or traveled to (and I am an avid world traveler). \n",
      "I've been riding this system on and off (I vaccilate between non-Phoenix-metro cities and here a lot) for roughly 10 years, and yeah, for a few of those years I would also drive a car here and there, so I have a sound basis of comparison. \n",
      "\n",
      "This is a joke compared to other cities in the USA (and abroad) that have equivalent populations. Hell, in NYC and LA, it's SOOO much easier to get around even though those places are larger and more densely populated. Phoenix is easily 30 years behind every other city-size comparable mass transit system that's out there. Get with the times!\n",
      "\n",
      "We need: busses that run MORE than once per 1/2 hour (and that's at it's current fastest), busses that are ON TIME (DAILY, they are never on time. Always way too early without waiting, or way too late without apology), more stops, stops that have actual BENCHES or SHADE or POSTED INFORMATION of any kind. I cannot even imagine how travelers get around on this thing, nothing is ever posted with any relevant info or signage.\n",
      "\n",
      "Etc, etc, etc.\n",
      "But seriously, just god awful and a complete joke to anyone who has ever experienced public transport anywhere else. ---------- [0.]\n",
      "****************************************************************************************************\n",
      "You have to know what you're looking for to find this place.  I've passed this location several dozen times and never realized that a restaurant & bar was located underground.  A friend of mine invited me to have a few drinks and some dinner and I was intrigued, so I decided to go for it.\n",
      "\n",
      "We sat at the bar and ordered glasses of Wine and some Oysters.  The bar was packed, but we were able to comfortably enjoy our food and have a conversation.  The food was OK.  The Wine was the house Zinfandel, which was *eh*....but I didn't like the call options, so whatever.....now I know not to order Wine here.\n",
      "\n",
      "Overall, it wasn't too bad of an experience.  Next time, I'll go with a Beer instead of Wine and try sitting in the dining room.\n",
      "\n",
      "Return Factor - 80% ---------- [0.]\n",
      "****************************************************************************************************\n"
     ]
    }
   ],
   "source": [
    "c = -1\n",
    "for i,d in df.iloc[X_test.index].iterrows():\n",
    "    c+=1\n",
    "    if a[c] == 0 :\n",
    "        print(d['text'],'-'*10,a[c])\n",
    "        print(100*'*')\n",
    "    if c == 200 :\n",
    "        break\n"
   ]
  },
  {
   "cell_type": "code",
   "execution_count": null,
   "metadata": {},
   "outputs": [],
   "source": []
  },
  {
   "cell_type": "code",
   "execution_count": null,
   "metadata": {},
   "outputs": [],
   "source": []
  }
 ],
 "metadata": {
  "kernelspec": {
   "display_name": "Python 3",
   "language": "python",
   "name": "python3"
  },
  "language_info": {
   "codemirror_mode": {
    "name": "ipython",
    "version": 3
   },
   "file_extension": ".py",
   "mimetype": "text/x-python",
   "name": "python",
   "nbconvert_exporter": "python",
   "pygments_lexer": "ipython3",
   "version": "3.6.7"
  }
 },
 "nbformat": 4,
 "nbformat_minor": 2
}
